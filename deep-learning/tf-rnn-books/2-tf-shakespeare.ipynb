{
 "cells": [
  {
   "cell_type": "markdown",
   "metadata": {},
   "source": [
    "# Recurrent Neural Networks\n",
    "Este é um caderno de estudo, baseado no trabalho de [Martin Gorner](https://github.com/martin-gorner/tensorflow-rnn-shakespeare)."
   ]
  },
  {
   "cell_type": "markdown",
   "metadata": {},
   "source": [
    "*****\n",
    "## A ideia das RNNs\n",
    "![rnn1](rnn1.png)\n",
    "\n",
    "*****\n",
    "## Deep RNNs\n",
    "![deep_rnns](deeprnns.png)\n",
    "\n",
    "*****\n",
    "\n",
    "## Célula LSTM\n",
    "### Problema:\n",
    "![ltdep](ltdep.png)\n",
    "### Solução:\n",
    "![lstm](lstm.png)\n",
    "### LSTM no detalhe:\n",
    "![lstm](lstmdetail.png)\n",
    "### GRU:\n",
    "![gru](gru.png)\n",
    "\n",
    "*****\n",
    "\n",
    "## Modelo de linguagem baseado em caracteres\n",
    "![cbmodel](cbmodel.png)\n",
    "### Passo 1:\n",
    "![rnnexample](rnnexample.png)\n",
    "### Passo 2:\n",
    "![rnnexample2](rnnexample2.png)\n",
    "### IO:\n",
    "![io](io.png)\n",
    "### Batching:\n",
    "![batch](batch.png)\n",
    "### Criando o grafo computacional:\n",
    "![graph](graph.png)\n",
    "### Código no TF:\n",
    "![tfcode](tfcode.png)"
   ]
  },
  {
   "cell_type": "markdown",
   "metadata": {},
   "source": [
    "# Resolvendo o exercício"
   ]
  },
  {
   "cell_type": "code",
   "execution_count": 14,
   "metadata": {
    "collapsed": false
   },
   "outputs": [
    {
     "name": "stdout",
     "output_type": "stream",
     "text": [
      "Loading file shakespeare/1kinghenryiv.txt\n",
      "Loading file shakespeare/1kinghenryvi.txt\n",
      "Loading file shakespeare/2kinghenryiv.txt\n",
      "Loading file shakespeare/2kinghenryvi.txt\n",
      "Loading file shakespeare/3kinghenryvi.txt\n",
      "Loading file shakespeare/allswellthatendswell.txt\n",
      "Loading file shakespeare/antonyandcleopatra.txt\n",
      "Loading file shakespeare/asyoulikeit.txt\n",
      "Loading file shakespeare/comedyoferrors.txt\n",
      "Loading file shakespeare/coriolanus.txt\n",
      "Loading file shakespeare/cymbeline.txt\n",
      "Loading file shakespeare/hamlet.txt\n",
      "Loading file shakespeare/juliuscaesar.txt\n",
      "Loading file shakespeare/kinghenryv.txt\n",
      "Loading file shakespeare/kinghenryviii.txt\n",
      "Loading file shakespeare/kingjohn.txt\n",
      "Loading file shakespeare/kinglear.txt\n",
      "Loading file shakespeare/kingrichardii.txt\n",
      "Loading file shakespeare/kingrichardiii.txt\n",
      "Loading file shakespeare/loverscomplaint.txt\n",
      "Loading file shakespeare/loveslabourslost.txt\n",
      "Loading file shakespeare/macbeth.txt\n",
      "Loading file shakespeare/measureforemeasure.txt\n",
      "Loading file shakespeare/merchantofvenice.txt\n",
      "Loading file shakespeare/merrywivesofwindsor.txt\n",
      "Loading file shakespeare/midsummersnightsdream.txt\n",
      "Loading file shakespeare/muchadoaboutnothing.txt\n",
      "Loading file shakespeare/othello.txt\n",
      "Loading file shakespeare/periclesprinceoftyre.txt\n",
      "Loading file shakespeare/rapeoflucrece.txt\n",
      "Loading file shakespeare/romeoandjuliet.txt\n",
      "Loading file shakespeare/sonnets.txt\n",
      "Loading file shakespeare/tamingoftheshrew.txt\n",
      "Loading file shakespeare/tempest.txt\n",
      "Loading file shakespeare/timonofathens.txt\n",
      "Loading file shakespeare/titusandronicus.txt\n",
      "Loading file shakespeare/troilusandcressida.txt\n",
      "Loading file shakespeare/twelfthnight.txt\n",
      "Loading file shakespeare/twogentlemenofverona.txt\n",
      "Loading file shakespeare/various.txt\n",
      "Loading file shakespeare/venusandadonis.txt\n",
      "Loading file shakespeare/winterstale.txt\n"
     ]
    }
   ],
   "source": [
    "import tensorflow as tf\n",
    "from tensorflow.contrib import layers, rnn\n",
    "import os, time, math\n",
    "import numpy as np\n",
    "import my_txtutils as txt\n",
    "\n",
    "tf.set_random_seed(9)\n",
    "\n",
    "seq_len = 30\n",
    "batch_size = 200\n",
    "alphasize = txt.ALPHASIZE\n",
    "internal_size = 512\n",
    "num_layers = 3\n",
    "learning_rate = 0.01\n",
    "dropout_pkeep = 0.7\n",
    "\n",
    "data_dir = 'shakespeare/*.txt'\n",
    "code_text, valid_text, book_ranges = txt.read_data_files(data_dir, validation=True)"
   ]
  },
  {
   "cell_type": "code",
   "execution_count": 17,
   "metadata": {
    "collapsed": false
   },
   "outputs": [
    {
     "name": "stdout",
     "output_type": "stream",
     "text": [
      "Training text size is 4.90MB with 142.38KB set aside for validation. There will be 856 batches per epoch\n"
     ]
    }
   ],
   "source": [
    "epoch_size = len(code_text) // (batch_size * seq_len)\n",
    "txt.print_data_stats(len(code_text), len(valid_text), epoch_size)"
   ]
  },
  {
   "cell_type": "code",
   "execution_count": null,
   "metadata": {
    "collapsed": true
   },
   "outputs": [],
   "source": [
    "# **************************************************************************\n",
    "# Construindo o modelo\n",
    "# **************************************************************************\n",
    "# 1. Inicializando os placeholders\n",
    "X = tf.placeholder(tf.uint8, [None, None], name='X')\n",
    "Xo = tf.one_hot(X, alphasize, 1.0, 0.0)\n",
    "Y = tf.placeholder(tf.uint8, [None, None], name='Y')\n",
    "Yo = tf.one_hot(Y, alphasize, 1.0, 0.0)\n",
    "Hin = tf.placeholder(tf.float32, [None, num_layers * internal_size], name='Hin')\n",
    "\n",
    "lr = tf.placeholder(tf.float32, name='lr')\n",
    "pkeep = tf.placeholder(tf.float32, name='pkeep')\n",
    "batch_s = tf.placeholder(tf.int32, name='batch_s')\n",
    "\n",
    "# 2. Criando as camadas\n",
    "cells = [rnn.GRUCell(internal_size) for _ in range(num_layers)]\n",
    "dropcells = [rnn.DropoutWrapper(cell, input_keep_prob=pkeep) for cell in cells]\n",
    "multicell = rnn.MultiRNNCell(dropcells, state_is_tuple=False)\n",
    "out = rnn.DropoutWrapper(multicell, output_keep_prob=pkeep)\n",
    "\n",
    "Yr, H = tf.nn.dynamic_rnn(out, Xo, dtype=tf.float32, initial_state=Hin)\n",
    "H = tf.identity(H, name='H')\n",
    "\n",
    "# 3. Softmax na saída\n",
    "Yflat = tf.reshape\n",
    "\n",
    "# **************************************************************************\n",
    "# Treinando o modelo\n",
    "# **************************************************************************\n",
    "\n",
    "\n",
    "# **************************************************************************\n",
    "# Avaliando o modelo\n",
    "# **************************************************************************"
   ]
  }
 ],
 "metadata": {
  "kernelspec": {
   "display_name": "Python [conda root]",
   "language": "python",
   "name": "conda-root-py"
  },
  "language_info": {
   "codemirror_mode": {
    "name": "ipython",
    "version": 3
   },
   "file_extension": ".py",
   "mimetype": "text/x-python",
   "name": "python",
   "nbconvert_exporter": "python",
   "pygments_lexer": "ipython3",
   "version": "3.5.2"
  }
 },
 "nbformat": 4,
 "nbformat_minor": 2
}
