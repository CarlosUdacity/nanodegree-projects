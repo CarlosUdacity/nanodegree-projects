{
 "cells": [
  {
   "cell_type": "code",
   "execution_count": 19,
   "metadata": {},
   "outputs": [],
   "source": [
    "from __future__ import print_function\n",
    "import keras\n",
    "from keras.datasets import mnist\n",
    "from keras.models import Sequential\n",
    "from keras.layers import Dense, Dropout, Flatten, Conv2D, MaxPooling2D\n",
    "from keras.losses import categorical_crossentropy\n",
    "from keras.optimizers import Adadelta, Adam, SGD\n",
    "from keras import backend as K"
   ]
  },
  {
   "cell_type": "code",
   "execution_count": 2,
   "metadata": {
    "collapsed": true
   },
   "outputs": [],
   "source": [
    "# Initial variables\n",
    "batch_size = 128\n",
    "num_classes = 10\n",
    "epochs = 12\n",
    "img_rows, img_cols = 28, 28\n",
    "\n",
    "# Loads the MNIST dataset\n",
    "(x_train, y_train), (x_test, y_test) = mnist.load_data()\n",
    "\n",
    "# Depending on backend (Tensorflow or Theano), organizes tensors in different shape\n",
    "if K.image_data_format() == 'channels_last':\n",
    "    x_train = x_train.reshape(x_train.shape[0], img_rows, img_cols, 1)\n",
    "    x_test = x_test.reshape(x_test.shape[0], img_rows, img_cols, 1)\n",
    "else:\n",
    "    x_train = x_train.reshape(x_train.shape[0], 1, img_rows, img_cols)\n",
    "    x_test = x_test.reshape(x_test.shape[0], 1, img_rows, img_cols)"
   ]
  },
  {
   "cell_type": "code",
   "execution_count": 3,
   "metadata": {
    "collapsed": true
   },
   "outputs": [],
   "source": [
    "# Input preprocessing: normalizing data\n",
    "x_train = x_train.astype('float32')\n",
    "x_test = x_test.astype('float32')\n",
    "x_train /= 255\n",
    "x_test /= 255\n",
    "\n",
    "# Also transforming targets from a scalar in a 10-shaped vector\n",
    "y_train = keras.utils.to_categorical(y_train, num_classes)\n",
    "y_test = keras.utils.to_categorical(y_test, num_classes)"
   ]
  },
  {
   "cell_type": "code",
   "execution_count": 18,
   "metadata": {},
   "outputs": [],
   "source": [
    "# Model topology\n",
    "model = Sequential()\n",
    "model.add(Conv2D(4, kernel_size=(1, 1), strides=(1, 1), activation='relu', input_shape=(28, 28, 1)))\n",
    "model.add(Conv2D(8, kernel_size=(2, 2), strides=(2, 2), activation='relu'))\n",
    "model.add(Conv2D(12, kernel_size=(2, 2), strides=(2, 2), activation='relu'))\n",
    "model.add(Flatten())\n",
    "model.add(Dense(200, activation='relu'))\n",
    "model.add(Dropout(0.25))\n",
    "model.add(Dense(10, activation='softmax'))"
   ]
  },
  {
   "cell_type": "code",
   "execution_count": 20,
   "metadata": {
    "collapsed": true
   },
   "outputs": [],
   "source": [
    "model.compile(loss=categorical_crossentropy, optimizer=SGD(), metrics=['accuracy'])"
   ]
  },
  {
   "cell_type": "code",
   "execution_count": 21,
   "metadata": {},
   "outputs": [
    {
     "name": "stdout",
     "output_type": "stream",
     "text": [
      "Train on 60000 samples, validate on 10000 samples\n",
      "Epoch 1/12\n",
      "60000/60000 [==============================] - 4s - loss: 2.2937 - acc: 0.1683 - val_loss: 2.2844 - val_acc: 0.1705\n",
      "Epoch 2/12\n",
      "60000/60000 [==============================] - 4s - loss: 2.2578 - acc: 0.2462 - val_loss: 2.1799 - val_acc: 0.4148\n",
      "Epoch 3/12\n",
      "60000/60000 [==============================] - 4s - loss: 1.2821 - acc: 0.6493 - val_loss: 0.4813 - val_acc: 0.8575\n",
      "Epoch 4/12\n",
      "60000/60000 [==============================] - 4s - loss: 0.4767 - acc: 0.8526 - val_loss: 0.3211 - val_acc: 0.9073\n",
      "Epoch 5/12\n",
      "60000/60000 [==============================] - 4s - loss: 0.3553 - acc: 0.8943 - val_loss: 0.2574 - val_acc: 0.9263\n",
      "Epoch 6/12\n",
      "60000/60000 [==============================] - 4s - loss: 0.2935 - acc: 0.9127 - val_loss: 0.2143 - val_acc: 0.9351\n",
      "Epoch 7/12\n",
      "60000/60000 [==============================] - 4s - loss: 0.2550 - acc: 0.9234 - val_loss: 0.1856 - val_acc: 0.9440\n",
      "Epoch 8/12\n",
      "60000/60000 [==============================] - 4s - loss: 0.2241 - acc: 0.9324 - val_loss: 0.1626 - val_acc: 0.9501\n",
      "Epoch 9/12\n",
      "60000/60000 [==============================] - 4s - loss: 0.2024 - acc: 0.9396 - val_loss: 0.1486 - val_acc: 0.9549\n",
      "Epoch 10/12\n",
      "60000/60000 [==============================] - 4s - loss: 0.1845 - acc: 0.9444 - val_loss: 0.1357 - val_acc: 0.9600\n",
      "Epoch 11/12\n",
      "60000/60000 [==============================] - 4s - loss: 0.1721 - acc: 0.9477 - val_loss: 0.1245 - val_acc: 0.9618\n",
      "Epoch 12/12\n",
      "60000/60000 [==============================] - 4s - loss: 0.1600 - acc: 0.9516 - val_loss: 0.1157 - val_acc: 0.9651\n"
     ]
    },
    {
     "data": {
      "text/plain": [
       "<keras.callbacks.History at 0x12adcf9b0>"
      ]
     },
     "execution_count": 21,
     "metadata": {},
     "output_type": "execute_result"
    }
   ],
   "source": [
    "model.fit(x_train, y_train, batch_size=batch_size, epochs=epochs, verbose=1, validation_data=(x_test, y_test))"
   ]
  },
  {
   "cell_type": "code",
   "execution_count": 22,
   "metadata": {},
   "outputs": [
    {
     "name": "stdout",
     "output_type": "stream",
     "text": [
      "Test loss: \t 0.1156985201\n",
      "Test accuracy: \t 0.9651\n"
     ]
    }
   ],
   "source": [
    "score = model.evaluate(x_test, y_test, verbose=0)\n",
    "print('Test loss: \\t', score[0])\n",
    "print('Test accuracy: \\t', score[1])"
   ]
  },
  {
   "cell_type": "code",
   "execution_count": null,
   "metadata": {
    "collapsed": true
   },
   "outputs": [],
   "source": []
  }
 ],
 "metadata": {
  "kernelspec": {
   "display_name": "Python 3",
   "language": "python",
   "name": "python3"
  },
  "language_info": {
   "codemirror_mode": {
    "name": "ipython",
    "version": 3
   },
   "file_extension": ".py",
   "mimetype": "text/x-python",
   "name": "python",
   "nbconvert_exporter": "python",
   "pygments_lexer": "ipython3",
   "version": "3.6.1"
  }
 },
 "nbformat": 4,
 "nbformat_minor": 2
}
