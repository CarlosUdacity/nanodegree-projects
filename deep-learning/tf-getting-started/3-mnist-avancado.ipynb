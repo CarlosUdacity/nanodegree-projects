{
 "cells": [
  {
   "cell_type": "markdown",
   "metadata": {},
   "source": [
    "# MNIST Avançado - Deep Convolutional MNIST Classifier"
   ]
  },
  {
   "cell_type": "code",
   "execution_count": 1,
   "metadata": {
    "collapsed": false
   },
   "outputs": [
    {
     "name": "stdout",
     "output_type": "stream",
     "text": [
      "Extracting MNIST_data/train-images-idx3-ubyte.gz\n",
      "Extracting MNIST_data/train-labels-idx1-ubyte.gz\n",
      "Extracting MNIST_data/t10k-images-idx3-ubyte.gz\n",
      "Extracting MNIST_data/t10k-labels-idx1-ubyte.gz\n"
     ]
    }
   ],
   "source": [
    "# Carregando o dataset\n",
    "from tensorflow.examples.tutorials.mnist import input_data\n",
    "\n",
    "mnist = input_data.read_data_sets('MNIST_data', one_hot=True)"
   ]
  },
  {
   "cell_type": "markdown",
   "metadata": {},
   "source": [
    "## Construindo primeiro a NN sem convolução"
   ]
  },
  {
   "cell_type": "code",
   "execution_count": 15,
   "metadata": {
    "collapsed": false
   },
   "outputs": [
    {
     "name": "stdout",
     "output_type": "stream",
     "text": [
      "Accuracy: 0.917200\n"
     ]
    }
   ],
   "source": [
    "import tensorflow as tf\n",
    "import numpy as np\n",
    "\n",
    "# Inicializando os placeholders\n",
    "x = tf.placeholder(tf.float32, shape=[None, 28 * 28])\n",
    "y = tf.placeholder(tf.float32, shape=[None, 10])\n",
    "\n",
    "# Inicializando as variáveis\n",
    "W = tf.Variable(tf.zeros([28 * 28, 10]))\n",
    "b = tf.Variable(tf.zeros([10]))\n",
    "\n",
    "# Construindo o modelo\n",
    "prediction = tf.matmul(x, W) + b\n",
    "#prediction = tf.nn.softmax(logits)\n",
    "\n",
    "# Calculando o erro\n",
    "cross_entropy = tf.reduce_mean(tf.nn.softmax_cross_entropy_with_logits(labels=y, logits=prediction))\n",
    "train_step = tf.train.GradientDescentOptimizer(0.3).minimize(cross_entropy)\n",
    "\n",
    "# Inicializando o TensorFlow\n",
    "sess = tf.InteractiveSession()\n",
    "sess.run(tf.global_variables_initializer())\n",
    "\n",
    "# Treinando o modelo\n",
    "for i in range(1000):\n",
    "    x_batch, y_batch = mnist.train.next_batch(100)\n",
    "    sess.run(train_step, {x: x_batch, y: y_batch})\n",
    "\n",
    "# Avaliando o modelo\n",
    "correct_prediction = tf.equal(tf.argmax(y, 1), tf.argmax(prediction, 1))\n",
    "accuracy = tf.reduce_mean(tf.cast(correct_prediction, dtype=tf.float32))\n",
    "print('Accuracy: %f' % sess.run(accuracy, feed_dict={x: mnist.test.images, y: mnist.test.labels}))"
   ]
  },
  {
   "cell_type": "markdown",
   "metadata": {},
   "source": [
    "## Construindo uma NN com convolução, bem vanilla"
   ]
  },
  {
   "cell_type": "code",
   "execution_count": 34,
   "metadata": {
    "collapsed": false
   },
   "outputs": [
    {
     "name": "stdout",
     "output_type": "stream",
     "text": [
      "Step 999  |  Accuracy: 1.0000\n",
      "\n",
      "Final Accuracy: 0.9870\n"
     ]
    }
   ],
   "source": [
    "import tensorflow as tf\n",
    "import numpy as np\n",
    "import sys\n",
    "\n",
    "# **********************************************************************************************************\n",
    "# Construindo o modelo\n",
    "# **********************************************************************************************************\n",
    "# 1. Inicializando os placeholders\n",
    "x = tf.placeholder(tf.float32, shape=[None, 28 * 28])\n",
    "y_ = tf.placeholder(tf.float32, shape= [None, 10])\n",
    "\n",
    "# 2. Inicializando as variáveis como função do shape, e diferentes de zero para prevenir gradiente zero\n",
    "def weights(shape):\n",
    "    initial = tf.truncated_normal(shape, stddev=0.1)\n",
    "    return tf.Variable(initial)\n",
    "\n",
    "def biases(shape):\n",
    "    initial = tf.constant(0.1, shape=shape)\n",
    "    return tf.Variable(initial)\n",
    "\n",
    "# 3. Construindo as camadas\n",
    "def conv2d(x, W):\n",
    "    return tf.nn.conv2d(x, W, strides=[1, 1, 1, 1], padding='SAME')\n",
    "\n",
    "def max_pool_2x2(x):\n",
    "    return tf.nn.max_pool(x, ksize=[1, 2, 2, 1], strides=[1, 2, 2, 1], padding='SAME')\n",
    "\n",
    "\n",
    "# a) Primeira camada\n",
    "W_conv1 = weights([5, 5, 1, 32]) # 32 features/outputs para cada patch/filtro 5x5, 1 canal de input\n",
    "b_conv1 = biases([32]) # 32 outputs\n",
    "x_image = tf.reshape(x, [-1, 28, 28, 1]) # largura, altura, e canais/cores (1: p&b)\n",
    "\n",
    "out = tf.nn.relu(conv2d(x_image, W_conv1) + b_conv1)\n",
    "out = max_pool_2x2(out)\n",
    "\n",
    "# b) Segunda camada\n",
    "W_conv2 = weights([5, 5, 32, 64])\n",
    "b_conv2 = biases([64])\n",
    "\n",
    "out = tf.nn.relu(conv2d(out, W_conv2) + b_conv2)\n",
    "out = max_pool_2x2(out)\n",
    "\n",
    "# c) Terceira camada: Fully Connected Layer\n",
    "# Dimensões: a imagem foi reduzida 2 vezes pelo fator 2: de 28 x 28 foi para 7 * 7\n",
    "# Profundidade: a imagem teve a profundidade (depth/features) aumentada de 1 para 64\n",
    "W_fc1 = weights([7 * 7 * 64, 1024])\n",
    "b_fc1 = biases([1024])\n",
    "\n",
    "out = tf.reshape(out, [-1, 7 * 7 * 64])\n",
    "out = tf.nn.relu(tf.matmul(out, W_fc1) + b_fc1)\n",
    "\n",
    "# d) Dropout para reduzir o overfitting\n",
    "keep_prob = tf.placeholder(tf.float32)\n",
    "out = tf.nn.dropout(out, keep_prob=keep_prob)\n",
    "\n",
    "# e) Camada final de leitura\n",
    "W_final = weights([1024, 10])\n",
    "b_final = biases([10])\n",
    "prediction = tf.matmul(out, W_final) + b_final\n",
    "\n",
    "# **********************************************************************************************************\n",
    "# Treinando o modelo\n",
    "# **********************************************************************************************************\n",
    "# 1. Definindo o erro\n",
    "cross_entropy = tf.reduce_mean(tf.nn.softmax_cross_entropy_with_logits(labels=y_, logits=prediction))\n",
    "train_step = tf.train.GradientDescentOptimizer(0.3).minimize(cross_entropy)\n",
    "\n",
    "# 2. Definindo a acuracidade\n",
    "correct_prediction = tf.equal(tf.argmax(prediction, 1), tf.argmax(y_, 1))\n",
    "accuracy = tf.reduce_mean(tf.cast(correct_prediction, dtype=tf.float32))\n",
    "\n",
    "# 3. Rodando o modelo\n",
    "sess = tf.InteractiveSession()\n",
    "sess.run(tf.global_variables_initializer())\n",
    "\n",
    "for i in range(1000):\n",
    "    x_batch, y_batch = mnist.train.next_batch(200)\n",
    "    sess.run(train_step, feed_dict={x: x_batch, y_: y_batch, keep_prob: .6})\n",
    "    msg = 'Step %d  |  Accuracy: %.4f' % (i, sess.run(accuracy, feed_dict={x: x_batch, y_: y_batch, keep_prob: 1.0}))\n",
    "    sys.stdout.write(\"\\r\" + str(msg))\n",
    "    sys.stdout.flush()\n",
    "\n",
    "# **********************************************************************************************************\n",
    "# Avaliando o modelo\n",
    "# **********************************************************************************************************\n",
    "print('\\n\\nFinal Accuracy: %.4f' % sess.run(accuracy, feed_dict={x: mnist.test.images, y_: mnist.test.labels, keep_prob: 1}))"
   ]
  },
  {
   "cell_type": "markdown",
   "metadata": {},
   "source": [
    "## Construindo uma NN com convolução, mais avançada"
   ]
  },
  {
   "cell_type": "markdown",
   "metadata": {},
   "source": [
    "![neural_net](nn.png)\n",
    "### Importante:\n",
    "![neural_net](nn1.png)\n",
    "### Importante:\n",
    "![neural_net](nn2.png)\n",
    "### Apresentação completa: https://www.youtube.com/watch?v=vq2nnJ4g6N0"
   ]
  },
  {
   "cell_type": "code",
   "execution_count": 49,
   "metadata": {
    "collapsed": false
   },
   "outputs": [
    {
     "name": "stdout",
     "output_type": "stream",
     "text": [
      "Step 9999  |  Accuracy: 1.0000\n",
      "\n",
      "Final Accuracy: 0.9911\n"
     ]
    }
   ],
   "source": [
    "import tensorflow as tf\n",
    "import numpy as np\n",
    "import sys\n",
    "\n",
    "# *************************************************************************************\n",
    "# Construindo o modelo\n",
    "# *************************************************************************************\n",
    "# 1. Inicializando os flows\n",
    "x = tf.placeholder(tf.float32, shape=[None, 28 * 28])\n",
    "y = tf.placeholder(tf.float32, shape=[None, 10])\n",
    "\n",
    "# 2. Inicializando os pesos e biases de cada camada\n",
    "def weights(shape):\n",
    "    return tf.Variable(tf.truncated_normal(shape, stddev=0.1))\n",
    "\n",
    "def biases(shape):\n",
    "    return tf.Variable(tf.constant(0.1, shape=shape))\n",
    "\n",
    "# 3. Construindo a rede\n",
    "x_image = tf.reshape(x, [-1, 28, 28, 1])\n",
    "out = tf.nn.conv2d(x_image, weights([6, 6, 1, 6]), strides=[1, 1, 1, 1], padding='SAME')\n",
    "out = tf.nn.relu(out + biases([6]))\n",
    "\n",
    "out = tf.nn.conv2d(out, weights([5, 5, 6, 12]), strides=[1, 2, 2, 1], padding='SAME')\n",
    "out = tf.nn.relu(out + biases([12]))\n",
    "\n",
    "out = tf.nn.conv2d(out, weights([4, 4, 12, 24]), strides=[1, 2, 2, 1], padding='SAME')\n",
    "out = tf.nn.relu(out + biases([24]))\n",
    "\n",
    "out = tf.reshape(out, [-1, 7 * 7 * 24])\n",
    "out = tf.matmul(out, weights([7 * 7 * 24, 200])) + biases([200])\n",
    "\n",
    "keep_prob = tf.placeholder(tf.float32)\n",
    "out = tf.nn.dropout(out, keep_prob=keep_prob)\n",
    "\n",
    "prediction = tf.matmul(out, weights([200, 10])) + biases([10])\n",
    "\n",
    "# **********************************************************************************************************\n",
    "# Treinando o modelo\n",
    "# **********************************************************************************************************\n",
    "\n",
    "# 1. Learning Rate Decay\n",
    "global_step = tf.Variable(0, trainable=False)\n",
    "starter_learning_rate = 0.1\n",
    "learning_rate = tf.train.exponential_decay(starter_learning_rate, global_step,\n",
    "                                           2000, 0.96, staircase=True)\n",
    "# 2. Definindo o erro\n",
    "cross_entropy = tf.reduce_mean(tf.nn.softmax_cross_entropy_with_logits(labels=y, logits=prediction))\n",
    "train_step = tf.train.GradientDescentOptimizer(learning_rate).minimize(cross_entropy, global_step=global_step)\n",
    "\n",
    "# 3. Definindo a acuracidade\n",
    "correct_prediction = tf.equal(tf.argmax(prediction, 1), tf.argmax(y, 1))\n",
    "accuracy = tf.reduce_mean(tf.cast(correct_prediction, dtype=tf.float32))\n",
    "\n",
    "# 3. Rodando o modelo\n",
    "sess = tf.InteractiveSession()\n",
    "sess.run(tf.global_variables_initializer())\n",
    "\n",
    "for i in range(10000):\n",
    "    x_batch, y_batch = mnist.train.next_batch(200)\n",
    "    sess.run(train_step, feed_dict={x: x_batch, y: y_batch, keep_prob: .6})\n",
    "    msg = 'Step %d  |  Accuracy: %.4f' % (i, sess.run(accuracy, feed_dict={x: x_batch, y: y_batch, keep_prob: 1.0}))\n",
    "    sys.stdout.write(\"\\r\" + str(msg))\n",
    "    sys.stdout.flush()\n",
    "\n",
    "# **********************************************************************************************************\n",
    "# Avaliando o modelo\n",
    "# **********************************************************************************************************\n",
    "print('\\n\\nFinal Accuracy: %.4f' % sess.run(accuracy, feed_dict={x: mnist.test.images, y: mnist.test.labels, keep_prob: 1}))"
   ]
  },
  {
   "cell_type": "markdown",
   "metadata": {},
   "source": [
    "### Próximos passos:\n",
    "- Aprender a aplicar **batch normalization**:\n",
    "  - https://gist.github.com/tomokishii/0ce3bdac1588b5cca9fa5fbdf6e1c412\n",
    "  - http://ruishu.io/2016/12/27/batchnorm/\n",
    "- Terminar os tutoriais do **TensorFlow**:\n",
    "  - https://www.tensorflow.org/get_started/mnist/mechanics\n",
    "  - https://www.tensorflow.org/tutorials/\n",
    "- Aprender a usar o **TensorBoard**:\n",
    "  - https://www.tensorflow.org/get_started/summaries_and_tensorboard\n",
    "  "
   ]
  }
 ],
 "metadata": {
  "kernelspec": {
   "display_name": "Python [conda root]",
   "language": "python",
   "name": "conda-root-py"
  },
  "language_info": {
   "codemirror_mode": {
    "name": "ipython",
    "version": 3
   },
   "file_extension": ".py",
   "mimetype": "text/x-python",
   "name": "python",
   "nbconvert_exporter": "python",
   "pygments_lexer": "ipython3",
   "version": "3.5.2"
  }
 },
 "nbformat": 4,
 "nbformat_minor": 2
}
