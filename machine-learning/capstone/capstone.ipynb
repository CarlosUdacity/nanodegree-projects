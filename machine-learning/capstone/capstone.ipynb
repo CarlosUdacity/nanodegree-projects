{
 "cells": [
  {
   "cell_type": "markdown",
   "metadata": {},
   "source": [
    "# Capstone Project"
   ]
  },
  {
   "cell_type": "markdown",
   "metadata": {},
   "source": [
    "## 1. Ingesting data"
   ]
  },
  {
   "cell_type": "code",
   "execution_count": 2,
   "metadata": {
    "collapsed": false
   },
   "outputs": [],
   "source": [
    "import pandas as pd\n",
    "import numpy as np\n",
    "import time\n",
    "import logging\n",
    "import os\n",
    "import sys"
   ]
  },
  {
   "cell_type": "code",
   "execution_count": 4,
   "metadata": {
    "collapsed": false
   },
   "outputs": [
    {
     "name": "stdout",
     "output_type": "stream",
     "text": [
      "auth_user loaded: 71638 lines in 0.354677 seconds\n"
     ]
    }
   ],
   "source": [
    "t = time.time()\n",
    "auth_user = pd.read_csv('data/ebdb_public_auth_user.csv')\n",
    "print(\"auth_user loaded: %d lines in %f seconds\" % (auth_user.shape[0], time.time() - t))"
   ]
  },
  {
   "cell_type": "code",
   "execution_count": 5,
   "metadata": {
    "collapsed": false
   },
   "outputs": [
    {
     "name": "stdout",
     "output_type": "stream",
     "text": [
      "payment_app_product loaded: 29 lines in 0.003525 seconds\n"
     ]
    }
   ],
   "source": [
    "t = time.time()\n",
    "payment_app_product = pd.read_csv('data/ebdb_public_payment_app_product.csv')\n",
    "print(\"payment_app_product loaded: %d lines in %f seconds\" % (payment_app_product.shape[0], time.time() - t))"
   ]
  },
  {
   "cell_type": "code",
   "execution_count": 6,
   "metadata": {
    "collapsed": false
   },
   "outputs": [
    {
     "name": "stdout",
     "output_type": "stream",
     "text": [
      "payment_app_subscription loaded: 42172 lines in 0.406074 seconds\n"
     ]
    },
    {
     "name": "stderr",
     "output_type": "stream",
     "text": [
      "/Users/carlos/anaconda/lib/python3.5/site-packages/IPython/core/interactiveshell.py:2717: DtypeWarning: Columns (9,40) have mixed types. Specify dtype option on import or set low_memory=False.\n",
      "  interactivity=interactivity, compiler=compiler, result=result)\n"
     ]
    }
   ],
   "source": [
    "t = time.time()\n",
    "payment_app_subscription = pd.read_csv('data/ebdb_public_payment_app_historicalsubscription.csv')\n",
    "print(\"payment_app_subscription loaded: %d lines in %f seconds\" % (payment_app_subscription.shape[0], time.time() - t))"
   ]
  },
  {
   "cell_type": "code",
   "execution_count": 7,
   "metadata": {
    "collapsed": false
   },
   "outputs": [
    {
     "name": "stderr",
     "output_type": "stream",
     "text": [
      "/Users/carlos/anaconda/lib/python3.5/site-packages/IPython/core/interactiveshell.py:2717: DtypeWarning: Columns (28,31,32,33,34,35,36,37,38,39,40,41,42,43,44,45,46,47,48,49,50) have mixed types. Specify dtype option on import or set low_memory=False.\n",
      "  interactivity=interactivity, compiler=compiler, result=result)\n"
     ]
    },
    {
     "name": "stdout",
     "output_type": "stream",
     "text": [
      "frontend_brazil_pages loaded: 5747993 lines in 116.072547 seconds\n"
     ]
    }
   ],
   "source": [
    "t = time.time()\n",
    "frontend_brazil_pages = pd.read_csv('data/analytics_frontend_brazil_pages.csv')\n",
    "print(\"frontend_brazil_pages loaded: %d lines in %f seconds\" % (frontend_brazil_pages.shape[0], time.time() - t))"
   ]
  },
  {
   "cell_type": "code",
   "execution_count": 8,
   "metadata": {
    "collapsed": false
   },
   "outputs": [
    {
     "name": "stdout",
     "output_type": "stream",
     "text": [
      "frontend_brazil_identifies loaded: 141357 lines in 1.873921 seconds\n"
     ]
    },
    {
     "name": "stderr",
     "output_type": "stream",
     "text": [
      "/Users/carlos/anaconda/lib/python3.5/site-packages/IPython/core/interactiveshell.py:2717: DtypeWarning: Columns (25,26,27,28,29,30,31,32,34) have mixed types. Specify dtype option on import or set low_memory=False.\n",
      "  interactivity=interactivity, compiler=compiler, result=result)\n"
     ]
    }
   ],
   "source": [
    "t = time.time()\n",
    "frontend_brazil_identifies = pd.read_csv('data/analytics_frontend_brazil_identifies.csv')\n",
    "print(\"frontend_brazil_identifies loaded: %d lines in %f seconds\" % (frontend_brazil_identifies.shape[0], time.time() - t))"
   ]
  },
  {
   "cell_type": "code",
   "execution_count": 9,
   "metadata": {
    "collapsed": false
   },
   "outputs": [
    {
     "name": "stderr",
     "output_type": "stream",
     "text": [
      "/Users/carlos/anaconda/lib/python3.5/site-packages/IPython/core/interactiveshell.py:2717: DtypeWarning: Columns (20,26,27,28,29,30,31,32) have mixed types. Specify dtype option on import or set low_memory=False.\n",
      "  interactivity=interactivity, compiler=compiler, result=result)\n"
     ]
    },
    {
     "name": "stdout",
     "output_type": "stream",
     "text": [
      "frontend_brazil_tracks loaded: 1343225 lines in 16.996525 seconds\n"
     ]
    }
   ],
   "source": [
    "t = time.time()\n",
    "frontend_brazil_tracks = pd.read_csv('data/analytics_frontend_brazil_tracks.csv')\n",
    "print(\"frontend_brazil_tracks loaded: %d lines in %f seconds\" % (frontend_brazil_tracks.shape[0], time.time() - t))"
   ]
  },
  {
   "cell_type": "code",
   "execution_count": 10,
   "metadata": {
    "collapsed": false
   },
   "outputs": [
    {
     "name": "stdout",
     "output_type": "stream",
     "text": [
      "brazil_events_signup loaded: 31030 lines in 0.656590 seconds\n"
     ]
    },
    {
     "name": "stderr",
     "output_type": "stream",
     "text": [
      "/Users/carlos/anaconda/lib/python3.5/site-packages/IPython/core/interactiveshell.py:2717: DtypeWarning: Columns (25,27,29,31,33,34,36,37,38,39,40,41,42,43,44,45,46,47,48,49,50) have mixed types. Specify dtype option on import or set low_memory=False.\n",
      "  interactivity=interactivity, compiler=compiler, result=result)\n"
     ]
    }
   ],
   "source": [
    "t = time.time()\n",
    "brazil_events_signup = pd.read_csv('data/analytics_brazil_events_event_sign_up.csv')\n",
    "print(\"brazil_events_signup loaded: %d lines in %f seconds\" % (brazil_events_signup.shape[0], time.time() - t))"
   ]
  },
  {
   "cell_type": "code",
   "execution_count": 11,
   "metadata": {
    "collapsed": false
   },
   "outputs": [
    {
     "name": "stdout",
     "output_type": "stream",
     "text": [
      "analytics_tables_course_enrollments loaded: 187952 lines in 0.731893 seconds\n"
     ]
    }
   ],
   "source": [
    "t = time.time()\n",
    "analytics_tables_course_enrollments = pd.read_csv('data/analytics_analytics_tables_course_enrollments_br.csv')\n",
    "print(\"analytics_tables_course_enrollments loaded: %d lines in %f seconds\" % (analytics_tables_course_enrollments.shape[0], time.time() - t))"
   ]
  },
  {
   "cell_type": "code",
   "execution_count": 12,
   "metadata": {
    "collapsed": false
   },
   "outputs": [
    {
     "name": "stdout",
     "output_type": "stream",
     "text": [
      "zendesk_data loaded: 11829 lines in 0.127155 seconds\n"
     ]
    }
   ],
   "source": [
    "t = time.time()\n",
    "zendesk_data = pd.read_csv('data/zendesk_export.csv')\n",
    "print(\"zendesk_data loaded: %d lines in %f seconds\" % (zendesk_data.shape[0], time.time() - t))"
   ]
  },
  {
   "cell_type": "markdown",
   "metadata": {},
   "source": [
    "## 2. Preprocess Features"
   ]
  },
  {
   "cell_type": "markdown",
   "metadata": {},
   "source": [
    "### 2.1. First step: *email*, *is_paying_student* and *register_date*"
   ]
  },
  {
   "cell_type": "code",
   "execution_count": 70,
   "metadata": {
    "collapsed": false
   },
   "outputs": [
    {
     "data": {
      "text/plain": [
       "(18692, 43)"
      ]
     },
     "execution_count": 70,
     "metadata": {},
     "output_type": "execute_result"
    }
   ],
   "source": [
    "paying_students = payment_app_subscription.loc[lambda df: df['status'].isin(['active', 'payment_credit_retry'])]\n",
    "paying_students.shape"
   ]
  },
  {
   "cell_type": "code",
   "execution_count": 74,
   "metadata": {
    "collapsed": false
   },
   "outputs": [
    {
     "data": {
      "text/html": [
       "<div>\n",
       "<table border=\"1\" class=\"dataframe\">\n",
       "  <thead>\n",
       "    <tr style=\"text-align: right;\">\n",
       "      <th></th>\n",
       "      <th>user_id</th>\n",
       "      <th>id</th>\n",
       "      <th>register_date</th>\n",
       "    </tr>\n",
       "  </thead>\n",
       "  <tbody>\n",
       "    <tr>\n",
       "      <th>0</th>\n",
       "      <td>7</td>\n",
       "      <td>670</td>\n",
       "      <td>2016-08-16 18:32:12.533034</td>\n",
       "    </tr>\n",
       "    <tr>\n",
       "      <th>1</th>\n",
       "      <td>13</td>\n",
       "      <td>1482</td>\n",
       "      <td>2016-10-08 23:05:24.148811</td>\n",
       "    </tr>\n",
       "    <tr>\n",
       "      <th>2</th>\n",
       "      <td>20</td>\n",
       "      <td>3436</td>\n",
       "      <td>2017-01-06 22:07:58.437857 -02:00</td>\n",
       "    </tr>\n",
       "    <tr>\n",
       "      <th>3</th>\n",
       "      <td>28</td>\n",
       "      <td>1656</td>\n",
       "      <td>2016-10-20 11:32:45.037242 -02:00</td>\n",
       "    </tr>\n",
       "    <tr>\n",
       "      <th>4</th>\n",
       "      <td>41</td>\n",
       "      <td>1397</td>\n",
       "      <td>2016-10-03 20:41:56.352383</td>\n",
       "    </tr>\n",
       "  </tbody>\n",
       "</table>\n",
       "</div>"
      ],
      "text/plain": [
       "   user_id    id                      register_date\n",
       "0        7   670         2016-08-16 18:32:12.533034\n",
       "1       13  1482         2016-10-08 23:05:24.148811\n",
       "2       20  3436  2017-01-06 22:07:58.437857 -02:00\n",
       "3       28  1656  2016-10-20 11:32:45.037242 -02:00\n",
       "4       41  1397         2016-10-03 20:41:56.352383"
      ]
     },
     "execution_count": 74,
     "metadata": {},
     "output_type": "execute_result"
    }
   ],
   "source": [
    "paying_students = paying_students.groupby('user_id').first()[['id', 'register_date']]\n",
    "paying_students.reset_index(level=0, inplace=True)\n",
    "paying_students.head()"
   ]
  },
  {
   "cell_type": "code",
   "execution_count": 76,
   "metadata": {
    "collapsed": false
   },
   "outputs": [
    {
     "data": {
      "text/html": [
       "<div>\n",
       "<table border=\"1\" class=\"dataframe\">\n",
       "  <thead>\n",
       "    <tr style=\"text-align: right;\">\n",
       "      <th></th>\n",
       "      <th>user_id</th>\n",
       "      <th>email</th>\n",
       "      <th>first_name</th>\n",
       "      <th>last_name</th>\n",
       "      <th>date_joined</th>\n",
       "    </tr>\n",
       "  </thead>\n",
       "  <tbody>\n",
       "    <tr>\n",
       "      <th>0</th>\n",
       "      <td>39</td>\n",
       "      <td>vinicius.zilinski@gmail.com</td>\n",
       "      <td>Vinicius</td>\n",
       "      <td>Zilinski</td>\n",
       "      <td>2016-06-23 18:10:54.299931</td>\n",
       "    </tr>\n",
       "    <tr>\n",
       "      <th>1</th>\n",
       "      <td>6</td>\n",
       "      <td>leeo.apc@gmail.com</td>\n",
       "      <td>Leo</td>\n",
       "      <td>A.c</td>\n",
       "      <td>2016-06-21 23:18:50.152776</td>\n",
       "    </tr>\n",
       "    <tr>\n",
       "      <th>2</th>\n",
       "      <td>8</td>\n",
       "      <td>sardinha.dias@gmail.com</td>\n",
       "      <td>Carlos</td>\n",
       "      <td>sardinha dias</td>\n",
       "      <td>2016-06-22 00:22:49.282586</td>\n",
       "    </tr>\n",
       "    <tr>\n",
       "      <th>3</th>\n",
       "      <td>10</td>\n",
       "      <td>thiagonv@gmail.com</td>\n",
       "      <td>Thiago</td>\n",
       "      <td>Vilela</td>\n",
       "      <td>2016-06-22 10:57:22.246017</td>\n",
       "    </tr>\n",
       "    <tr>\n",
       "      <th>4</th>\n",
       "      <td>11</td>\n",
       "      <td>ygorats@gmail.com</td>\n",
       "      <td>Ygor</td>\n",
       "      <td>Santos</td>\n",
       "      <td>2016-06-22 14:06:45.355805</td>\n",
       "    </tr>\n",
       "  </tbody>\n",
       "</table>\n",
       "</div>"
      ],
      "text/plain": [
       "   user_id                        email first_name      last_name  \\\n",
       "0       39  vinicius.zilinski@gmail.com   Vinicius       Zilinski   \n",
       "1        6           leeo.apc@gmail.com        Leo            A.c   \n",
       "2        8      sardinha.dias@gmail.com     Carlos  sardinha dias   \n",
       "3       10           thiagonv@gmail.com     Thiago         Vilela   \n",
       "4       11            ygorats@gmail.com       Ygor         Santos   \n",
       "\n",
       "                  date_joined  \n",
       "0  2016-06-23 18:10:54.299931  \n",
       "1  2016-06-21 23:18:50.152776  \n",
       "2  2016-06-22 00:22:49.282586  \n",
       "3  2016-06-22 10:57:22.246017  \n",
       "4  2016-06-22 14:06:45.355805  "
      ]
     },
     "execution_count": 76,
     "metadata": {},
     "output_type": "execute_result"
    }
   ],
   "source": [
    "all_users = auth_user[['id', 'email', 'first_name', 'last_name', 'date_joined']]\n",
    "all_users.columns = ['user_id', 'email', 'first_name', 'last_name', 'date_joined']\n",
    "all_users.head()"
   ]
  },
  {
   "cell_type": "code",
   "execution_count": 99,
   "metadata": {
    "collapsed": false
   },
   "outputs": [
    {
     "data": {
      "text/html": [
       "<div>\n",
       "<table border=\"1\" class=\"dataframe\">\n",
       "  <thead>\n",
       "    <tr style=\"text-align: right;\">\n",
       "      <th></th>\n",
       "      <th>user_id</th>\n",
       "      <th>email</th>\n",
       "      <th>first_name</th>\n",
       "      <th>last_name</th>\n",
       "      <th>date_joined</th>\n",
       "      <th>subscription_id</th>\n",
       "      <th>register_date</th>\n",
       "      <th>is_paying_student</th>\n",
       "    </tr>\n",
       "  </thead>\n",
       "  <tbody>\n",
       "    <tr>\n",
       "      <th>0</th>\n",
       "      <td>39</td>\n",
       "      <td>vinicius.zilinski@gmail.com</td>\n",
       "      <td>Vinicius</td>\n",
       "      <td>Zilinski</td>\n",
       "      <td>2016-06-23 18:10:54.299931</td>\n",
       "      <td>NaN</td>\n",
       "      <td>NaN</td>\n",
       "      <td>0</td>\n",
       "    </tr>\n",
       "    <tr>\n",
       "      <th>1</th>\n",
       "      <td>6</td>\n",
       "      <td>leeo.apc@gmail.com</td>\n",
       "      <td>Leo</td>\n",
       "      <td>A.c</td>\n",
       "      <td>2016-06-21 23:18:50.152776</td>\n",
       "      <td>NaN</td>\n",
       "      <td>NaN</td>\n",
       "      <td>0</td>\n",
       "    </tr>\n",
       "    <tr>\n",
       "      <th>2</th>\n",
       "      <td>8</td>\n",
       "      <td>sardinha.dias@gmail.com</td>\n",
       "      <td>Carlos</td>\n",
       "      <td>sardinha dias</td>\n",
       "      <td>2016-06-22 00:22:49.282586</td>\n",
       "      <td>NaN</td>\n",
       "      <td>NaN</td>\n",
       "      <td>0</td>\n",
       "    </tr>\n",
       "    <tr>\n",
       "      <th>3</th>\n",
       "      <td>10</td>\n",
       "      <td>thiagonv@gmail.com</td>\n",
       "      <td>Thiago</td>\n",
       "      <td>Vilela</td>\n",
       "      <td>2016-06-22 10:57:22.246017</td>\n",
       "      <td>NaN</td>\n",
       "      <td>NaN</td>\n",
       "      <td>0</td>\n",
       "    </tr>\n",
       "    <tr>\n",
       "      <th>4</th>\n",
       "      <td>11</td>\n",
       "      <td>ygorats@gmail.com</td>\n",
       "      <td>Ygor</td>\n",
       "      <td>Santos</td>\n",
       "      <td>2016-06-22 14:06:45.355805</td>\n",
       "      <td>NaN</td>\n",
       "      <td>NaN</td>\n",
       "      <td>0</td>\n",
       "    </tr>\n",
       "    <tr>\n",
       "      <th>5</th>\n",
       "      <td>13</td>\n",
       "      <td>lazaro_neto_@hotmail.com</td>\n",
       "      <td>Lazaro Lacir</td>\n",
       "      <td>Moraes Neto</td>\n",
       "      <td>2016-06-22 15:41:57.398526</td>\n",
       "      <td>1482.0</td>\n",
       "      <td>2016-10-08 23:05:24.148811</td>\n",
       "      <td>1</td>\n",
       "    </tr>\n",
       "    <tr>\n",
       "      <th>6</th>\n",
       "      <td>15</td>\n",
       "      <td>jonatacw@gmail.com</td>\n",
       "      <td>Jonata</td>\n",
       "      <td>Wieczynski</td>\n",
       "      <td>2016-06-22 17:35:10.147516</td>\n",
       "      <td>NaN</td>\n",
       "      <td>NaN</td>\n",
       "      <td>0</td>\n",
       "    </tr>\n",
       "    <tr>\n",
       "      <th>7</th>\n",
       "      <td>17</td>\n",
       "      <td>laertejjunior@gmail.com</td>\n",
       "      <td>Laerte</td>\n",
       "      <td>Mercier</td>\n",
       "      <td>2016-06-22 18:06:27.395793</td>\n",
       "      <td>NaN</td>\n",
       "      <td>NaN</td>\n",
       "      <td>0</td>\n",
       "    </tr>\n",
       "    <tr>\n",
       "      <th>8</th>\n",
       "      <td>19</td>\n",
       "      <td>victormalagoni@hotmail.com</td>\n",
       "      <td>Victor</td>\n",
       "      <td>Pires Malagoni</td>\n",
       "      <td>2016-06-22 19:33:19.040524</td>\n",
       "      <td>NaN</td>\n",
       "      <td>NaN</td>\n",
       "      <td>0</td>\n",
       "    </tr>\n",
       "    <tr>\n",
       "      <th>9</th>\n",
       "      <td>20</td>\n",
       "      <td>a30673083@gmail.com</td>\n",
       "      <td>Jose</td>\n",
       "      <td>Ramirez</td>\n",
       "      <td>2016-06-22 21:50:31.777444</td>\n",
       "      <td>3436.0</td>\n",
       "      <td>2017-01-06 22:07:58.437857 -02:00</td>\n",
       "      <td>1</td>\n",
       "    </tr>\n",
       "  </tbody>\n",
       "</table>\n",
       "</div>"
      ],
      "text/plain": [
       "   user_id                        email    first_name       last_name  \\\n",
       "0       39  vinicius.zilinski@gmail.com      Vinicius        Zilinski   \n",
       "1        6           leeo.apc@gmail.com           Leo             A.c   \n",
       "2        8      sardinha.dias@gmail.com        Carlos   sardinha dias   \n",
       "3       10           thiagonv@gmail.com        Thiago          Vilela   \n",
       "4       11            ygorats@gmail.com          Ygor          Santos   \n",
       "5       13     lazaro_neto_@hotmail.com  Lazaro Lacir     Moraes Neto   \n",
       "6       15           jonatacw@gmail.com        Jonata      Wieczynski   \n",
       "7       17      laertejjunior@gmail.com        Laerte         Mercier   \n",
       "8       19   victormalagoni@hotmail.com        Victor  Pires Malagoni   \n",
       "9       20          a30673083@gmail.com          Jose         Ramirez   \n",
       "\n",
       "                  date_joined  subscription_id  \\\n",
       "0  2016-06-23 18:10:54.299931              NaN   \n",
       "1  2016-06-21 23:18:50.152776              NaN   \n",
       "2  2016-06-22 00:22:49.282586              NaN   \n",
       "3  2016-06-22 10:57:22.246017              NaN   \n",
       "4  2016-06-22 14:06:45.355805              NaN   \n",
       "5  2016-06-22 15:41:57.398526           1482.0   \n",
       "6  2016-06-22 17:35:10.147516              NaN   \n",
       "7  2016-06-22 18:06:27.395793              NaN   \n",
       "8  2016-06-22 19:33:19.040524              NaN   \n",
       "9  2016-06-22 21:50:31.777444           3436.0   \n",
       "\n",
       "                       register_date  is_paying_student  \n",
       "0                                NaN                  0  \n",
       "1                                NaN                  0  \n",
       "2                                NaN                  0  \n",
       "3                                NaN                  0  \n",
       "4                                NaN                  0  \n",
       "5         2016-10-08 23:05:24.148811                  1  \n",
       "6                                NaN                  0  \n",
       "7                                NaN                  0  \n",
       "8                                NaN                  0  \n",
       "9  2017-01-06 22:07:58.437857 -02:00                  1  "
      ]
     },
     "execution_count": 99,
     "metadata": {},
     "output_type": "execute_result"
    }
   ],
   "source": [
    "def is_paying_student(row):\n",
    "    if np.isnan(row['subscription_id']):\n",
    "        return 0\n",
    "    else:\n",
    "        return 1\n",
    "\n",
    "x = all_users.join(paying_students.set_index('user_id'), on='user_id')\n",
    "x.rename(columns={'id': 'subscription_id'}, inplace=True)\n",
    "x['is_paying_student'] = x.apply(lambda row: is_paying_student(row), axis=1)\n",
    "x.head(10)"
   ]
  },
  {
   "cell_type": "markdown",
   "metadata": {},
   "source": [
    "### 2.2. Webinar Enrollments"
   ]
  },
  {
   "cell_type": "code",
   "execution_count": 100,
   "metadata": {
    "collapsed": false
   },
   "outputs": [
    {
     "data": {
      "text/html": [
       "<div>\n",
       "<table border=\"1\" class=\"dataframe\">\n",
       "  <thead>\n",
       "    <tr style=\"text-align: right;\">\n",
       "      <th></th>\n",
       "      <th>email</th>\n",
       "      <th>webinar_enrollments</th>\n",
       "    </tr>\n",
       "  </thead>\n",
       "  <tbody>\n",
       "    <tr>\n",
       "      <th>0</th>\n",
       "      <td>0.adrian.axel@gmail.com</td>\n",
       "      <td>4</td>\n",
       "    </tr>\n",
       "    <tr>\n",
       "      <th>1</th>\n",
       "      <td>0matheus.araujo0@gmail.com</td>\n",
       "      <td>1</td>\n",
       "    </tr>\n",
       "    <tr>\n",
       "      <th>2</th>\n",
       "      <td>111@111.com</td>\n",
       "      <td>1</td>\n",
       "    </tr>\n",
       "    <tr>\n",
       "      <th>3</th>\n",
       "      <td>1162.eoj@gmail.com</td>\n",
       "      <td>1</td>\n",
       "    </tr>\n",
       "    <tr>\n",
       "      <th>4</th>\n",
       "      <td>130577er@gmail.com</td>\n",
       "      <td>1</td>\n",
       "    </tr>\n",
       "    <tr>\n",
       "      <th>5</th>\n",
       "      <td>146050u54@gmail.com</td>\n",
       "      <td>1</td>\n",
       "    </tr>\n",
       "    <tr>\n",
       "      <th>6</th>\n",
       "      <td>15cocosantos@gmail.com</td>\n",
       "      <td>1</td>\n",
       "    </tr>\n",
       "    <tr>\n",
       "      <th>7</th>\n",
       "      <td>15thlima@gmail.com</td>\n",
       "      <td>1</td>\n",
       "    </tr>\n",
       "    <tr>\n",
       "      <th>8</th>\n",
       "      <td>17salvador@gmail.com</td>\n",
       "      <td>5</td>\n",
       "    </tr>\n",
       "    <tr>\n",
       "      <th>9</th>\n",
       "      <td>1995.guilherme@gmail.com</td>\n",
       "      <td>1</td>\n",
       "    </tr>\n",
       "  </tbody>\n",
       "</table>\n",
       "</div>"
      ],
      "text/plain": [
       "                        email  webinar_enrollments\n",
       "0     0.adrian.axel@gmail.com                    4\n",
       "1  0matheus.araujo0@gmail.com                    1\n",
       "2                 111@111.com                    1\n",
       "3          1162.eoj@gmail.com                    1\n",
       "4          130577er@gmail.com                    1\n",
       "5         146050u54@gmail.com                    1\n",
       "6      15cocosantos@gmail.com                    1\n",
       "7          15thlima@gmail.com                    1\n",
       "8        17salvador@gmail.com                    5\n",
       "9    1995.guilherme@gmail.com                    1"
      ]
     },
     "execution_count": 100,
     "metadata": {},
     "output_type": "execute_result"
    }
   ],
   "source": [
    "webinar_enrollments = brazil_events_signup[['email', 'enrollment_date']]\n",
    "webinar_enrollments = webinar_enrollments.groupby('email').count()\n",
    "webinar_enrollments.reset_index(level=0, inplace=True)\n",
    "webinar_enrollments.rename(columns={'enrollment_date': 'webinar_enrollments'}, inplace=True)\n",
    "webinar_enrollments.head(10)"
   ]
  },
  {
   "cell_type": "code",
   "execution_count": 103,
   "metadata": {
    "collapsed": false
   },
   "outputs": [],
   "source": [
    "x = x.join(webinar_enrollments.set_index('email'), on='email')"
   ]
  },
  {
   "cell_type": "code",
   "execution_count": 110,
   "metadata": {
    "collapsed": false
   },
   "outputs": [
    {
     "data": {
      "text/html": [
       "<div>\n",
       "<table border=\"1\" class=\"dataframe\">\n",
       "  <thead>\n",
       "    <tr style=\"text-align: right;\">\n",
       "      <th></th>\n",
       "      <th>user_id</th>\n",
       "      <th>email</th>\n",
       "      <th>first_name</th>\n",
       "      <th>last_name</th>\n",
       "      <th>date_joined</th>\n",
       "      <th>subscription_id</th>\n",
       "      <th>register_date</th>\n",
       "      <th>is_paying_student</th>\n",
       "      <th>webinar_enrollments</th>\n",
       "    </tr>\n",
       "  </thead>\n",
       "  <tbody>\n",
       "    <tr>\n",
       "      <th>0</th>\n",
       "      <td>39</td>\n",
       "      <td>vinicius.zilinski@gmail.com</td>\n",
       "      <td>Vinicius</td>\n",
       "      <td>Zilinski</td>\n",
       "      <td>2016-06-23 18:10:54.299931</td>\n",
       "      <td>NaN</td>\n",
       "      <td>NaN</td>\n",
       "      <td>0</td>\n",
       "      <td>0</td>\n",
       "    </tr>\n",
       "    <tr>\n",
       "      <th>1</th>\n",
       "      <td>6</td>\n",
       "      <td>leeo.apc@gmail.com</td>\n",
       "      <td>Leo</td>\n",
       "      <td>A.c</td>\n",
       "      <td>2016-06-21 23:18:50.152776</td>\n",
       "      <td>NaN</td>\n",
       "      <td>NaN</td>\n",
       "      <td>0</td>\n",
       "      <td>1</td>\n",
       "    </tr>\n",
       "    <tr>\n",
       "      <th>2</th>\n",
       "      <td>8</td>\n",
       "      <td>sardinha.dias@gmail.com</td>\n",
       "      <td>Carlos</td>\n",
       "      <td>sardinha dias</td>\n",
       "      <td>2016-06-22 00:22:49.282586</td>\n",
       "      <td>NaN</td>\n",
       "      <td>NaN</td>\n",
       "      <td>0</td>\n",
       "      <td>0</td>\n",
       "    </tr>\n",
       "    <tr>\n",
       "      <th>3</th>\n",
       "      <td>10</td>\n",
       "      <td>thiagonv@gmail.com</td>\n",
       "      <td>Thiago</td>\n",
       "      <td>Vilela</td>\n",
       "      <td>2016-06-22 10:57:22.246017</td>\n",
       "      <td>NaN</td>\n",
       "      <td>NaN</td>\n",
       "      <td>0</td>\n",
       "      <td>0</td>\n",
       "    </tr>\n",
       "    <tr>\n",
       "      <th>4</th>\n",
       "      <td>11</td>\n",
       "      <td>ygorats@gmail.com</td>\n",
       "      <td>Ygor</td>\n",
       "      <td>Santos</td>\n",
       "      <td>2016-06-22 14:06:45.355805</td>\n",
       "      <td>NaN</td>\n",
       "      <td>NaN</td>\n",
       "      <td>0</td>\n",
       "      <td>1</td>\n",
       "    </tr>\n",
       "    <tr>\n",
       "      <th>5</th>\n",
       "      <td>13</td>\n",
       "      <td>lazaro_neto_@hotmail.com</td>\n",
       "      <td>Lazaro Lacir</td>\n",
       "      <td>Moraes Neto</td>\n",
       "      <td>2016-06-22 15:41:57.398526</td>\n",
       "      <td>1482.0</td>\n",
       "      <td>2016-10-08 23:05:24.148811</td>\n",
       "      <td>1</td>\n",
       "      <td>0</td>\n",
       "    </tr>\n",
       "    <tr>\n",
       "      <th>6</th>\n",
       "      <td>15</td>\n",
       "      <td>jonatacw@gmail.com</td>\n",
       "      <td>Jonata</td>\n",
       "      <td>Wieczynski</td>\n",
       "      <td>2016-06-22 17:35:10.147516</td>\n",
       "      <td>NaN</td>\n",
       "      <td>NaN</td>\n",
       "      <td>0</td>\n",
       "      <td>0</td>\n",
       "    </tr>\n",
       "    <tr>\n",
       "      <th>7</th>\n",
       "      <td>17</td>\n",
       "      <td>laertejjunior@gmail.com</td>\n",
       "      <td>Laerte</td>\n",
       "      <td>Mercier</td>\n",
       "      <td>2016-06-22 18:06:27.395793</td>\n",
       "      <td>NaN</td>\n",
       "      <td>NaN</td>\n",
       "      <td>0</td>\n",
       "      <td>0</td>\n",
       "    </tr>\n",
       "    <tr>\n",
       "      <th>8</th>\n",
       "      <td>19</td>\n",
       "      <td>victormalagoni@hotmail.com</td>\n",
       "      <td>Victor</td>\n",
       "      <td>Pires Malagoni</td>\n",
       "      <td>2016-06-22 19:33:19.040524</td>\n",
       "      <td>NaN</td>\n",
       "      <td>NaN</td>\n",
       "      <td>0</td>\n",
       "      <td>0</td>\n",
       "    </tr>\n",
       "    <tr>\n",
       "      <th>9</th>\n",
       "      <td>20</td>\n",
       "      <td>a30673083@gmail.com</td>\n",
       "      <td>Jose</td>\n",
       "      <td>Ramirez</td>\n",
       "      <td>2016-06-22 21:50:31.777444</td>\n",
       "      <td>3436.0</td>\n",
       "      <td>2017-01-06 22:07:58.437857 -02:00</td>\n",
       "      <td>1</td>\n",
       "      <td>1</td>\n",
       "    </tr>\n",
       "  </tbody>\n",
       "</table>\n",
       "</div>"
      ],
      "text/plain": [
       "   user_id                        email    first_name       last_name  \\\n",
       "0       39  vinicius.zilinski@gmail.com      Vinicius        Zilinski   \n",
       "1        6           leeo.apc@gmail.com           Leo             A.c   \n",
       "2        8      sardinha.dias@gmail.com        Carlos   sardinha dias   \n",
       "3       10           thiagonv@gmail.com        Thiago          Vilela   \n",
       "4       11            ygorats@gmail.com          Ygor          Santos   \n",
       "5       13     lazaro_neto_@hotmail.com  Lazaro Lacir     Moraes Neto   \n",
       "6       15           jonatacw@gmail.com        Jonata      Wieczynski   \n",
       "7       17      laertejjunior@gmail.com        Laerte         Mercier   \n",
       "8       19   victormalagoni@hotmail.com        Victor  Pires Malagoni   \n",
       "9       20          a30673083@gmail.com          Jose         Ramirez   \n",
       "\n",
       "                  date_joined  subscription_id  \\\n",
       "0  2016-06-23 18:10:54.299931              NaN   \n",
       "1  2016-06-21 23:18:50.152776              NaN   \n",
       "2  2016-06-22 00:22:49.282586              NaN   \n",
       "3  2016-06-22 10:57:22.246017              NaN   \n",
       "4  2016-06-22 14:06:45.355805              NaN   \n",
       "5  2016-06-22 15:41:57.398526           1482.0   \n",
       "6  2016-06-22 17:35:10.147516              NaN   \n",
       "7  2016-06-22 18:06:27.395793              NaN   \n",
       "8  2016-06-22 19:33:19.040524              NaN   \n",
       "9  2016-06-22 21:50:31.777444           3436.0   \n",
       "\n",
       "                       register_date  is_paying_student  webinar_enrollments  \n",
       "0                                NaN                  0                    0  \n",
       "1                                NaN                  0                    1  \n",
       "2                                NaN                  0                    0  \n",
       "3                                NaN                  0                    0  \n",
       "4                                NaN                  0                    1  \n",
       "5         2016-10-08 23:05:24.148811                  1                    0  \n",
       "6                                NaN                  0                    0  \n",
       "7                                NaN                  0                    0  \n",
       "8                                NaN                  0                    0  \n",
       "9  2017-01-06 22:07:58.437857 -02:00                  1                    1  "
      ]
     },
     "execution_count": 110,
     "metadata": {},
     "output_type": "execute_result"
    }
   ],
   "source": [
    "x['webinar_enrollments'] = x['webinar_enrollments'].fillna(0).astype(int)\n",
    "x.head(10)"
   ]
  },
  {
   "cell_type": "markdown",
   "metadata": {},
   "source": [
    "### 2.3. Course Enrollments"
   ]
  },
  {
   "cell_type": "code",
   "execution_count": 125,
   "metadata": {
    "collapsed": false
   },
   "outputs": [
    {
     "data": {
      "text/html": [
       "<div>\n",
       "<table border=\"1\" class=\"dataframe\">\n",
       "  <thead>\n",
       "    <tr style=\"text-align: right;\">\n",
       "      <th></th>\n",
       "      <th>email</th>\n",
       "      <th>free_course_enrollments</th>\n",
       "    </tr>\n",
       "  </thead>\n",
       "  <tbody>\n",
       "    <tr>\n",
       "      <th>0</th>\n",
       "      <td>deivissondine@gmail.com</td>\n",
       "      <td>2</td>\n",
       "    </tr>\n",
       "    <tr>\n",
       "      <th>1</th>\n",
       "      <td>NaN</td>\n",
       "      <td>1</td>\n",
       "    </tr>\n",
       "    <tr>\n",
       "      <th>2</th>\n",
       "      <td>NaN</td>\n",
       "      <td>1</td>\n",
       "    </tr>\n",
       "    <tr>\n",
       "      <th>3</th>\n",
       "      <td>anajuliapc@gmail.com</td>\n",
       "      <td>4</td>\n",
       "    </tr>\n",
       "    <tr>\n",
       "      <th>4</th>\n",
       "      <td>NaN</td>\n",
       "      <td>1</td>\n",
       "    </tr>\n",
       "  </tbody>\n",
       "</table>\n",
       "</div>"
      ],
      "text/plain": [
       "                     email  free_course_enrollments\n",
       "0  deivissondine@gmail.com                        2\n",
       "1                      NaN                        1\n",
       "2                      NaN                        1\n",
       "3     anajuliapc@gmail.com                        4\n",
       "4                      NaN                        1"
      ]
     },
     "execution_count": 125,
     "metadata": {},
     "output_type": "execute_result"
    }
   ],
   "source": [
    "course_enrollments = analytics_tables_course_enrollments[['user_id', 'course_key']]\n",
    "course_enrollments = course_enrollments.groupby('user_id').count()\n",
    "course_enrollments.reset_index(level=0, inplace=True)\n",
    "course_enrollments = course_enrollments.join(auth_user[['username', 'email']].set_index('username'), on='user_id')\n",
    "course_enrollments.rename(columns={'course_key': 'free_course_enrollments'}, inplace=True)\n",
    "course_enrollments = course_enrollments[['email', 'free_course_enrollments']]\n",
    "course_enrollments.head()"
   ]
  },
  {
   "cell_type": "code",
   "execution_count": 126,
   "metadata": {
    "collapsed": false
   },
   "outputs": [
    {
     "data": {
      "text/html": [
       "<div>\n",
       "<table border=\"1\" class=\"dataframe\">\n",
       "  <thead>\n",
       "    <tr style=\"text-align: right;\">\n",
       "      <th></th>\n",
       "      <th>user_id</th>\n",
       "      <th>email</th>\n",
       "      <th>first_name</th>\n",
       "      <th>last_name</th>\n",
       "      <th>date_joined</th>\n",
       "      <th>subscription_id</th>\n",
       "      <th>register_date</th>\n",
       "      <th>is_paying_student</th>\n",
       "      <th>webinar_enrollments</th>\n",
       "      <th>free_course_enrollments</th>\n",
       "    </tr>\n",
       "  </thead>\n",
       "  <tbody>\n",
       "    <tr>\n",
       "      <th>0</th>\n",
       "      <td>39</td>\n",
       "      <td>vinicius.zilinski@gmail.com</td>\n",
       "      <td>Vinicius</td>\n",
       "      <td>Zilinski</td>\n",
       "      <td>2016-06-23 18:10:54.299931</td>\n",
       "      <td>NaN</td>\n",
       "      <td>NaN</td>\n",
       "      <td>0</td>\n",
       "      <td>0</td>\n",
       "      <td>4</td>\n",
       "    </tr>\n",
       "    <tr>\n",
       "      <th>1</th>\n",
       "      <td>6</td>\n",
       "      <td>leeo.apc@gmail.com</td>\n",
       "      <td>Leo</td>\n",
       "      <td>A.c</td>\n",
       "      <td>2016-06-21 23:18:50.152776</td>\n",
       "      <td>NaN</td>\n",
       "      <td>NaN</td>\n",
       "      <td>0</td>\n",
       "      <td>1</td>\n",
       "      <td>20</td>\n",
       "    </tr>\n",
       "    <tr>\n",
       "      <th>2</th>\n",
       "      <td>8</td>\n",
       "      <td>sardinha.dias@gmail.com</td>\n",
       "      <td>Carlos</td>\n",
       "      <td>sardinha dias</td>\n",
       "      <td>2016-06-22 00:22:49.282586</td>\n",
       "      <td>NaN</td>\n",
       "      <td>NaN</td>\n",
       "      <td>0</td>\n",
       "      <td>0</td>\n",
       "      <td>5</td>\n",
       "    </tr>\n",
       "    <tr>\n",
       "      <th>3</th>\n",
       "      <td>10</td>\n",
       "      <td>thiagonv@gmail.com</td>\n",
       "      <td>Thiago</td>\n",
       "      <td>Vilela</td>\n",
       "      <td>2016-06-22 10:57:22.246017</td>\n",
       "      <td>NaN</td>\n",
       "      <td>NaN</td>\n",
       "      <td>0</td>\n",
       "      <td>0</td>\n",
       "      <td>12</td>\n",
       "    </tr>\n",
       "    <tr>\n",
       "      <th>4</th>\n",
       "      <td>11</td>\n",
       "      <td>ygorats@gmail.com</td>\n",
       "      <td>Ygor</td>\n",
       "      <td>Santos</td>\n",
       "      <td>2016-06-22 14:06:45.355805</td>\n",
       "      <td>NaN</td>\n",
       "      <td>NaN</td>\n",
       "      <td>0</td>\n",
       "      <td>1</td>\n",
       "      <td>1</td>\n",
       "    </tr>\n",
       "    <tr>\n",
       "      <th>5</th>\n",
       "      <td>13</td>\n",
       "      <td>lazaro_neto_@hotmail.com</td>\n",
       "      <td>Lazaro Lacir</td>\n",
       "      <td>Moraes Neto</td>\n",
       "      <td>2016-06-22 15:41:57.398526</td>\n",
       "      <td>1482.0</td>\n",
       "      <td>2016-10-08 23:05:24.148811</td>\n",
       "      <td>1</td>\n",
       "      <td>0</td>\n",
       "      <td>1</td>\n",
       "    </tr>\n",
       "    <tr>\n",
       "      <th>6</th>\n",
       "      <td>15</td>\n",
       "      <td>jonatacw@gmail.com</td>\n",
       "      <td>Jonata</td>\n",
       "      <td>Wieczynski</td>\n",
       "      <td>2016-06-22 17:35:10.147516</td>\n",
       "      <td>NaN</td>\n",
       "      <td>NaN</td>\n",
       "      <td>0</td>\n",
       "      <td>0</td>\n",
       "      <td>1</td>\n",
       "    </tr>\n",
       "    <tr>\n",
       "      <th>7</th>\n",
       "      <td>17</td>\n",
       "      <td>laertejjunior@gmail.com</td>\n",
       "      <td>Laerte</td>\n",
       "      <td>Mercier</td>\n",
       "      <td>2016-06-22 18:06:27.395793</td>\n",
       "      <td>NaN</td>\n",
       "      <td>NaN</td>\n",
       "      <td>0</td>\n",
       "      <td>0</td>\n",
       "      <td>4</td>\n",
       "    </tr>\n",
       "    <tr>\n",
       "      <th>8</th>\n",
       "      <td>19</td>\n",
       "      <td>victormalagoni@hotmail.com</td>\n",
       "      <td>Victor</td>\n",
       "      <td>Pires Malagoni</td>\n",
       "      <td>2016-06-22 19:33:19.040524</td>\n",
       "      <td>NaN</td>\n",
       "      <td>NaN</td>\n",
       "      <td>0</td>\n",
       "      <td>0</td>\n",
       "      <td>1</td>\n",
       "    </tr>\n",
       "    <tr>\n",
       "      <th>9</th>\n",
       "      <td>20</td>\n",
       "      <td>a30673083@gmail.com</td>\n",
       "      <td>Jose</td>\n",
       "      <td>Ramirez</td>\n",
       "      <td>2016-06-22 21:50:31.777444</td>\n",
       "      <td>3436.0</td>\n",
       "      <td>2017-01-06 22:07:58.437857 -02:00</td>\n",
       "      <td>1</td>\n",
       "      <td>1</td>\n",
       "      <td>3</td>\n",
       "    </tr>\n",
       "  </tbody>\n",
       "</table>\n",
       "</div>"
      ],
      "text/plain": [
       "   user_id                        email    first_name       last_name  \\\n",
       "0       39  vinicius.zilinski@gmail.com      Vinicius        Zilinski   \n",
       "1        6           leeo.apc@gmail.com           Leo             A.c   \n",
       "2        8      sardinha.dias@gmail.com        Carlos   sardinha dias   \n",
       "3       10           thiagonv@gmail.com        Thiago          Vilela   \n",
       "4       11            ygorats@gmail.com          Ygor          Santos   \n",
       "5       13     lazaro_neto_@hotmail.com  Lazaro Lacir     Moraes Neto   \n",
       "6       15           jonatacw@gmail.com        Jonata      Wieczynski   \n",
       "7       17      laertejjunior@gmail.com        Laerte         Mercier   \n",
       "8       19   victormalagoni@hotmail.com        Victor  Pires Malagoni   \n",
       "9       20          a30673083@gmail.com          Jose         Ramirez   \n",
       "\n",
       "                  date_joined  subscription_id  \\\n",
       "0  2016-06-23 18:10:54.299931              NaN   \n",
       "1  2016-06-21 23:18:50.152776              NaN   \n",
       "2  2016-06-22 00:22:49.282586              NaN   \n",
       "3  2016-06-22 10:57:22.246017              NaN   \n",
       "4  2016-06-22 14:06:45.355805              NaN   \n",
       "5  2016-06-22 15:41:57.398526           1482.0   \n",
       "6  2016-06-22 17:35:10.147516              NaN   \n",
       "7  2016-06-22 18:06:27.395793              NaN   \n",
       "8  2016-06-22 19:33:19.040524              NaN   \n",
       "9  2016-06-22 21:50:31.777444           3436.0   \n",
       "\n",
       "                       register_date  is_paying_student  webinar_enrollments  \\\n",
       "0                                NaN                  0                    0   \n",
       "1                                NaN                  0                    1   \n",
       "2                                NaN                  0                    0   \n",
       "3                                NaN                  0                    0   \n",
       "4                                NaN                  0                    1   \n",
       "5         2016-10-08 23:05:24.148811                  1                    0   \n",
       "6                                NaN                  0                    0   \n",
       "7                                NaN                  0                    0   \n",
       "8                                NaN                  0                    0   \n",
       "9  2017-01-06 22:07:58.437857 -02:00                  1                    1   \n",
       "\n",
       "   free_course_enrollments  \n",
       "0                        4  \n",
       "1                       20  \n",
       "2                        5  \n",
       "3                       12  \n",
       "4                        1  \n",
       "5                        1  \n",
       "6                        1  \n",
       "7                        4  \n",
       "8                        1  \n",
       "9                        3  "
      ]
     },
     "execution_count": 126,
     "metadata": {},
     "output_type": "execute_result"
    }
   ],
   "source": [
    "x = x.join(course_enrollments.set_index('email'), on='email')\n",
    "x['free_course_enrollments'] = x['free_course_enrollments'].fillna(0).astype(int)"
   ]
  },
  {
   "cell_type": "markdown",
   "metadata": {},
   "source": [
    "### 2.4. Visits"
   ]
  },
  {
   "cell_type": "code",
   "execution_count": null,
   "metadata": {
    "collapsed": true
   },
   "outputs": [],
   "source": []
  }
 ],
 "metadata": {
  "kernelspec": {
   "display_name": "Python [conda root]",
   "language": "python",
   "name": "conda-root-py"
  },
  "language_info": {
   "codemirror_mode": {
    "name": "ipython",
    "version": 3
   },
   "file_extension": ".py",
   "mimetype": "text/x-python",
   "name": "python",
   "nbconvert_exporter": "python",
   "pygments_lexer": "ipython3",
   "version": "3.5.2"
  }
 },
 "nbformat": 4,
 "nbformat_minor": 2
}
