{
 "cells": [
  {
   "cell_type": "markdown",
   "metadata": {},
   "source": [
    "# Exploring Zendesk data"
   ]
  },
  {
   "cell_type": "markdown",
   "metadata": {},
   "source": [
    "## Importing libraries"
   ]
  },
  {
   "cell_type": "code",
   "execution_count": 1,
   "metadata": {
    "collapsed": true
   },
   "outputs": [],
   "source": [
    "import pandas as pd\n",
    "import numpy as np\n",
    "import matplotlib.pyplot as plt"
   ]
  },
  {
   "cell_type": "markdown",
   "metadata": {},
   "source": [
    "## Loading CSV data"
   ]
  },
  {
   "cell_type": "code",
   "execution_count": 17,
   "metadata": {
    "collapsed": false
   },
   "outputs": [
    {
     "data": {
      "text/html": [
       "<div>\n",
       "<table border=\"1\" class=\"dataframe\">\n",
       "  <thead>\n",
       "    <tr style=\"text-align: right;\">\n",
       "      <th></th>\n",
       "      <th>Summation column</th>\n",
       "      <th>Id</th>\n",
       "      <th>Requester</th>\n",
       "      <th>Requester id</th>\n",
       "      <th>Requester external id</th>\n",
       "      <th>Requester email</th>\n",
       "      <th>Requester domain</th>\n",
       "      <th>Submitter</th>\n",
       "      <th>Assignee</th>\n",
       "      <th>Group</th>\n",
       "      <th>...</th>\n",
       "      <th>First resolution time in minutes within business hours</th>\n",
       "      <th>Full resolution time in minutes</th>\n",
       "      <th>Full resolution time in minutes within business hours</th>\n",
       "      <th>Agent wait time in minutes</th>\n",
       "      <th>Agent wait time in minutes within business hours</th>\n",
       "      <th>Requester wait time in minutes</th>\n",
       "      <th>Requester wait time in minutes within business hours</th>\n",
       "      <th>On hold time in minutes</th>\n",
       "      <th>On hold time in minutes within business hours</th>\n",
       "      <th>Coach Date [txt]</th>\n",
       "    </tr>\n",
       "  </thead>\n",
       "  <tbody>\n",
       "    <tr>\n",
       "      <th>0</th>\n",
       "      <td>1</td>\n",
       "      <td>1</td>\n",
       "      <td>Sample customer</td>\n",
       "      <td>7009632747</td>\n",
       "      <td>NaN</td>\n",
       "      <td>customer@example.com</td>\n",
       "      <td>example.com</td>\n",
       "      <td>Eduardo Medina</td>\n",
       "      <td>Eduardo Medina</td>\n",
       "      <td>Support</td>\n",
       "      <td>...</td>\n",
       "      <td>6881.0</td>\n",
       "      <td>6881.0</td>\n",
       "      <td>6881.0</td>\n",
       "      <td>0.0</td>\n",
       "      <td>0.0</td>\n",
       "      <td>6881.0</td>\n",
       "      <td>6881.0</td>\n",
       "      <td>0.0</td>\n",
       "      <td>0.0</td>\n",
       "      <td>-</td>\n",
       "    </tr>\n",
       "    <tr>\n",
       "      <th>1</th>\n",
       "      <td>1</td>\n",
       "      <td>2</td>\n",
       "      <td>Zendesk Support</td>\n",
       "      <td>7248980687</td>\n",
       "      <td>NaN</td>\n",
       "      <td>noreply@zendesk.com</td>\n",
       "      <td>zendesk.com</td>\n",
       "      <td>Zendesk Support</td>\n",
       "      <td>Eduardo Medina</td>\n",
       "      <td>Support</td>\n",
       "      <td>...</td>\n",
       "      <td>56.0</td>\n",
       "      <td>56.0</td>\n",
       "      <td>56.0</td>\n",
       "      <td>0.0</td>\n",
       "      <td>0.0</td>\n",
       "      <td>56.0</td>\n",
       "      <td>56.0</td>\n",
       "      <td>0.0</td>\n",
       "      <td>0.0</td>\n",
       "      <td>-</td>\n",
       "    </tr>\n",
       "    <tr>\n",
       "      <th>2</th>\n",
       "      <td>1</td>\n",
       "      <td>3</td>\n",
       "      <td>Carlos Souza</td>\n",
       "      <td>7312219668</td>\n",
       "      <td>NaN</td>\n",
       "      <td>carlos@udacity.com</td>\n",
       "      <td>udacity.com</td>\n",
       "      <td>Carlos Souza</td>\n",
       "      <td>Eduardo Medina</td>\n",
       "      <td>Support</td>\n",
       "      <td>...</td>\n",
       "      <td>47.0</td>\n",
       "      <td>47.0</td>\n",
       "      <td>47.0</td>\n",
       "      <td>0.0</td>\n",
       "      <td>0.0</td>\n",
       "      <td>47.0</td>\n",
       "      <td>47.0</td>\n",
       "      <td>0.0</td>\n",
       "      <td>0.0</td>\n",
       "      <td>-</td>\n",
       "    </tr>\n",
       "    <tr>\n",
       "      <th>3</th>\n",
       "      <td>1</td>\n",
       "      <td>4</td>\n",
       "      <td>Aparna</td>\n",
       "      <td>7249407967</td>\n",
       "      <td>NaN</td>\n",
       "      <td>aparna@udacity.com</td>\n",
       "      <td>udacity.com</td>\n",
       "      <td>Aparna</td>\n",
       "      <td>Eduardo Medina</td>\n",
       "      <td>Support</td>\n",
       "      <td>...</td>\n",
       "      <td>31.0</td>\n",
       "      <td>31.0</td>\n",
       "      <td>31.0</td>\n",
       "      <td>0.0</td>\n",
       "      <td>0.0</td>\n",
       "      <td>31.0</td>\n",
       "      <td>31.0</td>\n",
       "      <td>0.0</td>\n",
       "      <td>0.0</td>\n",
       "      <td>-</td>\n",
       "    </tr>\n",
       "    <tr>\n",
       "      <th>4</th>\n",
       "      <td>1</td>\n",
       "      <td>5</td>\n",
       "      <td>Eduardo Medina</td>\n",
       "      <td>7009632527</td>\n",
       "      <td>NaN</td>\n",
       "      <td>eduardo@udacity.com</td>\n",
       "      <td>udacity.com</td>\n",
       "      <td>Eduardo Medina</td>\n",
       "      <td>Eduardo Medina</td>\n",
       "      <td>Support</td>\n",
       "      <td>...</td>\n",
       "      <td>1.0</td>\n",
       "      <td>1.0</td>\n",
       "      <td>1.0</td>\n",
       "      <td>0.0</td>\n",
       "      <td>0.0</td>\n",
       "      <td>1.0</td>\n",
       "      <td>1.0</td>\n",
       "      <td>0.0</td>\n",
       "      <td>0.0</td>\n",
       "      <td>-</td>\n",
       "    </tr>\n",
       "  </tbody>\n",
       "</table>\n",
       "<p>5 rows × 42 columns</p>\n",
       "</div>"
      ],
      "text/plain": [
       "   Summation column  Id        Requester  Requester id  Requester external id  \\\n",
       "0                 1   1  Sample customer    7009632747                    NaN   \n",
       "1                 1   2  Zendesk Support    7248980687                    NaN   \n",
       "2                 1   3     Carlos Souza    7312219668                    NaN   \n",
       "3                 1   4           Aparna    7249407967                    NaN   \n",
       "4                 1   5   Eduardo Medina    7009632527                    NaN   \n",
       "\n",
       "        Requester email Requester domain        Submitter        Assignee  \\\n",
       "0  customer@example.com      example.com   Eduardo Medina  Eduardo Medina   \n",
       "1   noreply@zendesk.com      zendesk.com  Zendesk Support  Eduardo Medina   \n",
       "2    carlos@udacity.com      udacity.com     Carlos Souza  Eduardo Medina   \n",
       "3    aparna@udacity.com      udacity.com           Aparna  Eduardo Medina   \n",
       "4   eduardo@udacity.com      udacity.com   Eduardo Medina  Eduardo Medina   \n",
       "\n",
       "     Group       ...         \\\n",
       "0  Support       ...          \n",
       "1  Support       ...          \n",
       "2  Support       ...          \n",
       "3  Support       ...          \n",
       "4  Support       ...          \n",
       "\n",
       "  First resolution time in minutes within business hours  \\\n",
       "0                                             6881.0       \n",
       "1                                               56.0       \n",
       "2                                               47.0       \n",
       "3                                               31.0       \n",
       "4                                                1.0       \n",
       "\n",
       "  Full resolution time in minutes  \\\n",
       "0                          6881.0   \n",
       "1                            56.0   \n",
       "2                            47.0   \n",
       "3                            31.0   \n",
       "4                             1.0   \n",
       "\n",
       "  Full resolution time in minutes within business hours  \\\n",
       "0                                             6881.0      \n",
       "1                                               56.0      \n",
       "2                                               47.0      \n",
       "3                                               31.0      \n",
       "4                                                1.0      \n",
       "\n",
       "  Agent wait time in minutes Agent wait time in minutes within business hours  \\\n",
       "0                        0.0                                              0.0   \n",
       "1                        0.0                                              0.0   \n",
       "2                        0.0                                              0.0   \n",
       "3                        0.0                                              0.0   \n",
       "4                        0.0                                              0.0   \n",
       "\n",
       "  Requester wait time in minutes  \\\n",
       "0                         6881.0   \n",
       "1                           56.0   \n",
       "2                           47.0   \n",
       "3                           31.0   \n",
       "4                            1.0   \n",
       "\n",
       "  Requester wait time in minutes within business hours  \\\n",
       "0                                             6881.0     \n",
       "1                                               56.0     \n",
       "2                                               47.0     \n",
       "3                                               31.0     \n",
       "4                                                1.0     \n",
       "\n",
       "  On hold time in minutes On hold time in minutes within business hours  \\\n",
       "0                     0.0                                           0.0   \n",
       "1                     0.0                                           0.0   \n",
       "2                     0.0                                           0.0   \n",
       "3                     0.0                                           0.0   \n",
       "4                     0.0                                           0.0   \n",
       "\n",
       "  Coach Date [txt]  \n",
       "0                -  \n",
       "1                -  \n",
       "2                -  \n",
       "3                -  \n",
       "4                -  \n",
       "\n",
       "[5 rows x 42 columns]"
      ]
     },
     "execution_count": 17,
     "metadata": {},
     "output_type": "execute_result"
    }
   ],
   "source": [
    "csv_data = pd.read_csv('data/zendesk-data-2017-03-20-0132.csv')\n",
    "\n",
    "csv_data.head()"
   ]
  },
  {
   "cell_type": "code",
   "execution_count": 18,
   "metadata": {
    "collapsed": false
   },
   "outputs": [
    {
     "data": {
      "text/plain": [
       "Index(['Summation column', 'Id', 'Requester', 'Requester id',\n",
       "       'Requester external id', 'Requester email', 'Requester domain',\n",
       "       'Submitter', 'Assignee', 'Group', 'Subject', 'Tags', 'Status',\n",
       "       'Priority', 'Via', 'Ticket type', 'Created at', 'Updated at',\n",
       "       'Assigned at', 'Organization', 'Due date', 'Initially assigned at',\n",
       "       'Solved at', 'Resolution time', 'Satisfaction Score', 'Group stations',\n",
       "       'Assignee stations', 'Reopens', 'Replies',\n",
       "       'First reply time in minutes',\n",
       "       'First reply time in minutes within business hours',\n",
       "       'First resolution time in minutes',\n",
       "       'First resolution time in minutes within business hours',\n",
       "       'Full resolution time in minutes',\n",
       "       'Full resolution time in minutes within business hours',\n",
       "       'Agent wait time in minutes',\n",
       "       'Agent wait time in minutes within business hours',\n",
       "       'Requester wait time in minutes',\n",
       "       'Requester wait time in minutes within business hours',\n",
       "       'On hold time in minutes',\n",
       "       'On hold time in minutes within business hours', 'Coach Date [txt]'],\n",
       "      dtype='object')"
      ]
     },
     "execution_count": 18,
     "metadata": {},
     "output_type": "execute_result"
    }
   ],
   "source": [
    "csv_data.columns"
   ]
  },
  {
   "cell_type": "code",
   "execution_count": 19,
   "metadata": {
    "collapsed": false
   },
   "outputs": [
    {
     "data": {
      "text/plain": [
       "(7802, 42)"
      ]
     },
     "execution_count": 19,
     "metadata": {},
     "output_type": "execute_result"
    }
   ],
   "source": [
    "csv_data.shape"
   ]
  },
  {
   "cell_type": "code",
   "execution_count": null,
   "metadata": {
    "collapsed": true
   },
   "outputs": [],
   "source": []
  }
 ],
 "metadata": {
  "anaconda-cloud": {},
  "kernelspec": {
   "display_name": "Python [conda root]",
   "language": "python",
   "name": "conda-root-py"
  },
  "language_info": {
   "codemirror_mode": {
    "name": "ipython",
    "version": 3
   },
   "file_extension": ".py",
   "mimetype": "text/x-python",
   "name": "python",
   "nbconvert_exporter": "python",
   "pygments_lexer": "ipython3",
   "version": "3.5.2"
  }
 },
 "nbformat": 4,
 "nbformat_minor": 1
}
